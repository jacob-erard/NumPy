{
 "cells": [
  {
   "cell_type": "code",
   "execution_count": 37,
   "id": "9ffbf6f8-8f40-4ad5-b532-ac6c6d52df1e",
   "metadata": {
    "scrolled": true
   },
   "outputs": [
    {
     "name": "stdout",
     "output_type": "stream",
     "text": [
      "2.1.2\n"
     ]
    }
   ],
   "source": [
    "import numpy as np\n",
    "\n",
    "print (np.__version__)"
   ]
  },
  {
   "cell_type": "code",
   "execution_count": 38,
   "id": "01bdc1b9-f79c-410b-b68f-be7796c8ee53",
   "metadata": {},
   "outputs": [
    {
     "name": "stdout",
     "output_type": "stream",
     "text": [
      "array([0 1 2 3 4 5 6 7 8 9])\n"
     ]
    }
   ],
   "source": [
    "myList = np.arange(10)\n",
    "print(f\"array({myList})\")"
   ]
  },
  {
   "cell_type": "code",
   "execution_count": 39,
   "id": "a6b3a7fa-162e-4b87-98cd-495c5b7a9cf7",
   "metadata": {},
   "outputs": [
    {
     "name": "stdout",
     "output_type": "stream",
     "text": [
      "[(5.1, 3.5, 1.4, 0.2, 'Iris-setosa') (4.9, 3. , 1.4, 0.2, 'Iris-setosa')\n",
      " (4.7, 3.2, 1.3, 0.2, 'Iris-setosa') (4.6, 3.1, 1.5, 0.2, 'Iris-setosa')\n",
      " (5. , 3.6, 1.4, 0.2, 'Iris-setosa') (5.4, 3.9, 1.7, 0.4, 'Iris-setosa')\n",
      " (4.6, 3.4, 1.4, 0.3, 'Iris-setosa') (5. , 3.4, 1.5, 0.2, 'Iris-setosa')\n",
      " (4.4, 2.9, 1.4, 0.2, 'Iris-setosa') (4.9, 3.1, 1.5, 0.1, 'Iris-setosa')\n",
      " (5.4, 3.7, 1.5, 0.2, 'Iris-setosa') (4.8, 3.4, 1.6, 0.2, 'Iris-setosa')\n",
      " (4.8, 3. , 1.4, 0.1, 'Iris-setosa') (4.3, 3. , 1.1, 0.1, 'Iris-setosa')\n",
      " (5.8, 4. , 1.2, 0.2, 'Iris-setosa') (5.7, 4.4, 1.5, 0.4, 'Iris-setosa')\n",
      " (5.4, 3.9, 1.3, 0.4, 'Iris-setosa') (5.1, 3.5, 1.4, 0.3, 'Iris-setosa')\n",
      " (5.7, 3.8, 1.7, 0.3, 'Iris-setosa') (5.1, 3.8, 1.5, 0.3, 'Iris-setosa')\n",
      " (5.4, 3.4, 1.7, 0.2, 'Iris-setosa') (5.1, 3.7, 1.5, 0.4, 'Iris-setosa')\n",
      " (4.6, 3.6, 1. , 0.2, 'Iris-setosa') (5.1, 3.3, 1.7, 0.5, 'Iris-setosa')\n",
      " (4.8, 3.4, 1.9, 0.2, 'Iris-setosa') (5. , 3. , 1.6, 0.2, 'Iris-setosa')\n",
      " (5. , 3.4, 1.6, 0.4, 'Iris-setosa') (5.2, 3.5, 1.5, 0.2, 'Iris-setosa')\n",
      " (5.2, 3.4, 1.4, 0.2, 'Iris-setosa') (4.7, 3.2, 1.6, 0.2, 'Iris-setosa')\n",
      " (4.8, 3.1, 1.6, 0.2, 'Iris-setosa') (5.4, 3.4, 1.5, 0.4, 'Iris-setosa')\n",
      " (5.2, 4.1, 1.5, 0.1, 'Iris-setosa') (5.5, 4.2, 1.4, 0.2, 'Iris-setosa')\n",
      " (4.9, 3.1, 1.5, 0.1, 'Iris-setosa') (5. , 3.2, 1.2, 0.2, 'Iris-setosa')\n",
      " (5.5, 3.5, 1.3, 0.2, 'Iris-setosa') (4.9, 3.1, 1.5, 0.1, 'Iris-setosa')\n",
      " (4.4, 3. , 1.3, 0.2, 'Iris-setosa') (5.1, 3.4, 1.5, 0.2, 'Iris-setosa')\n",
      " (5. , 3.5, 1.3, 0.3, 'Iris-setosa') (4.5, 2.3, 1.3, 0.3, 'Iris-setosa')\n",
      " (4.4, 3.2, 1.3, 0.2, 'Iris-setosa') (5. , 3.5, 1.6, 0.6, 'Iris-setosa')\n",
      " (5.1, 3.8, 1.9, 0.4, 'Iris-setosa') (4.8, 3. , 1.4, 0.3, 'Iris-setosa')\n",
      " (5.1, 3.8, 1.6, 0.2, 'Iris-setosa') (4.6, 3.2, 1.4, 0.2, 'Iris-setosa')\n",
      " (5.3, 3.7, 1.5, 0.2, 'Iris-setosa') (5. , 3.3, 1.4, 0.2, 'Iris-setosa')\n",
      " (7. , 3.2, 4.7, 1.4, 'Iris-versicolor')\n",
      " (6.4, 3.2, 4.5, 1.5, 'Iris-versicolor')\n",
      " (6.9, 3.1, 4.9, 1.5, 'Iris-versicolor')\n",
      " (5.5, 2.3, 4. , 1.3, 'Iris-versicolor')\n",
      " (6.5, 2.8, 4.6, 1.5, 'Iris-versicolor')\n",
      " (5.7, 2.8, 4.5, 1.3, 'Iris-versicolor')\n",
      " (6.3, 3.3, 4.7, 1.6, 'Iris-versicolor')\n",
      " (4.9, 2.4, 3.3, 1. , 'Iris-versicolor')\n",
      " (6.6, 2.9, 4.6, 1.3, 'Iris-versicolor')\n",
      " (5.2, 2.7, 3.9, 1.4, 'Iris-versicolor')\n",
      " (5. , 2. , 3.5, 1. , 'Iris-versicolor')\n",
      " (5.9, 3. , 4.2, 1.5, 'Iris-versicolor')\n",
      " (6. , 2.2, 4. , 1. , 'Iris-versicolor')\n",
      " (6.1, 2.9, 4.7, 1.4, 'Iris-versicolor')\n",
      " (5.6, 2.9, 3.6, 1.3, 'Iris-versicolor')\n",
      " (6.7, 3.1, 4.4, 1.4, 'Iris-versicolor')\n",
      " (5.6, 3. , 4.5, 1.5, 'Iris-versicolor')\n",
      " (5.8, 2.7, 4.1, 1. , 'Iris-versicolor')\n",
      " (6.2, 2.2, 4.5, 1.5, 'Iris-versicolor')\n",
      " (5.6, 2.5, 3.9, 1.1, 'Iris-versicolor')\n",
      " (5.9, 3.2, 4.8, 1.8, 'Iris-versicolor')\n",
      " (6.1, 2.8, 4. , 1.3, 'Iris-versicolor')\n",
      " (6.3, 2.5, 4.9, 1.5, 'Iris-versicolor')\n",
      " (6.1, 2.8, 4.7, 1.2, 'Iris-versicolor')\n",
      " (6.4, 2.9, 4.3, 1.3, 'Iris-versicolor')\n",
      " (6.6, 3. , 4.4, 1.4, 'Iris-versicolor')\n",
      " (6.8, 2.8, 4.8, 1.4, 'Iris-versicolor')\n",
      " (6.7, 3. , 5. , 1.7, 'Iris-versicolor')\n",
      " (6. , 2.9, 4.5, 1.5, 'Iris-versicolor')\n",
      " (5.7, 2.6, 3.5, 1. , 'Iris-versicolor')\n",
      " (5.5, 2.4, 3.8, 1.1, 'Iris-versicolor')\n",
      " (5.5, 2.4, 3.7, 1. , 'Iris-versicolor')\n",
      " (5.8, 2.7, 3.9, 1.2, 'Iris-versicolor')\n",
      " (6. , 2.7, 5.1, 1.6, 'Iris-versicolor')\n",
      " (5.4, 3. , 4.5, 1.5, 'Iris-versicolor')\n",
      " (6. , 3.4, 4.5, 1.6, 'Iris-versicolor')\n",
      " (6.7, 3.1, 4.7, 1.5, 'Iris-versicolor')\n",
      " (6.3, 2.3, 4.4, 1.3, 'Iris-versicolor')\n",
      " (5.6, 3. , 4.1, 1.3, 'Iris-versicolor')\n",
      " (5.5, 2.5, 4. , 1.3, 'Iris-versicolor')\n",
      " (5.5, 2.6, 4.4, 1.2, 'Iris-versicolor')\n",
      " (6.1, 3. , 4.6, 1.4, 'Iris-versicolor')\n",
      " (5.8, 2.6, 4. , 1.2, 'Iris-versicolor')\n",
      " (5. , 2.3, 3.3, 1. , 'Iris-versicolor')\n",
      " (5.6, 2.7, 4.2, 1.3, 'Iris-versicolor')\n",
      " (5.7, 3. , 4.2, 1.2, 'Iris-versicolor')\n",
      " (5.7, 2.9, 4.2, 1.3, 'Iris-versicolor')\n",
      " (6.2, 2.9, 4.3, 1.3, 'Iris-versicolor')\n",
      " (5.1, 2.5, 3. , 1.1, 'Iris-versicolor')\n",
      " (5.7, 2.8, 4.1, 1.3, 'Iris-versicolor')\n",
      " (6.3, 3.3, 6. , 2.5, 'Iris-virginica')\n",
      " (5.8, 2.7, 5.1, 1.9, 'Iris-virginica')\n",
      " (7.1, 3. , 5.9, 2.1, 'Iris-virginica')\n",
      " (6.3, 2.9, 5.6, 1.8, 'Iris-virginica')\n",
      " (6.5, 3. , 5.8, 2.2, 'Iris-virginica')\n",
      " (7.6, 3. , 6.6, 2.1, 'Iris-virginica')\n",
      " (4.9, 2.5, 4.5, 1.7, 'Iris-virginica')\n",
      " (7.3, 2.9, 6.3, 1.8, 'Iris-virginica')\n",
      " (6.7, 2.5, 5.8, 1.8, 'Iris-virginica')\n",
      " (7.2, 3.6, 6.1, 2.5, 'Iris-virginica')\n",
      " (6.5, 3.2, 5.1, 2. , 'Iris-virginica')\n",
      " (6.4, 2.7, 5.3, 1.9, 'Iris-virginica')\n",
      " (6.8, 3. , 5.5, 2.1, 'Iris-virginica')\n",
      " (5.7, 2.5, 5. , 2. , 'Iris-virginica')\n",
      " (5.8, 2.8, 5.1, 2.4, 'Iris-virginica')\n",
      " (6.4, 3.2, 5.3, 2.3, 'Iris-virginica')\n",
      " (6.5, 3. , 5.5, 1.8, 'Iris-virginica')\n",
      " (7.7, 3.8, 6.7, 2.2, 'Iris-virginica')\n",
      " (7.7, 2.6, 6.9, 2.3, 'Iris-virginica')\n",
      " (6. , 2.2, 5. , 1.5, 'Iris-virginica')\n",
      " (6.9, 3.2, 5.7, 2.3, 'Iris-virginica')\n",
      " (5.6, 2.8, 4.9, 2. , 'Iris-virginica')\n",
      " (7.7, 2.8, 6.7, 2. , 'Iris-virginica')\n",
      " (6.3, 2.7, 4.9, 1.8, 'Iris-virginica')\n",
      " (6.7, 3.3, 5.7, 2.1, 'Iris-virginica')\n",
      " (7.2, 3.2, 6. , 1.8, 'Iris-virginica')\n",
      " (6.2, 2.8, 4.8, 1.8, 'Iris-virginica')\n",
      " (6.1, 3. , 4.9, 1.8, 'Iris-virginica')\n",
      " (6.4, 2.8, 5.6, 2.1, 'Iris-virginica')\n",
      " (7.2, 3. , 5.8, 1.6, 'Iris-virginica')\n",
      " (7.4, 2.8, 6.1, 1.9, 'Iris-virginica')\n",
      " (7.9, 3.8, 6.4, 2. , 'Iris-virginica')\n",
      " (6.4, 2.8, 5.6, 2.2, 'Iris-virginica')\n",
      " (6.3, 2.8, 5.1, 1.5, 'Iris-virginica')\n",
      " (6.1, 2.6, 5.6, 1.4, 'Iris-virginica')\n",
      " (7.7, 3. , 6.1, 2.3, 'Iris-virginica')\n",
      " (6.3, 3.4, 5.6, 2.4, 'Iris-virginica')\n",
      " (6.4, 3.1, 5.5, 1.8, 'Iris-virginica')\n",
      " (6. , 3. , 4.8, 1.8, 'Iris-virginica')\n",
      " (6.9, 3.1, 5.4, 2.1, 'Iris-virginica')\n",
      " (6.7, 3.1, 5.6, 2.4, 'Iris-virginica')\n",
      " (6.9, 3.1, 5.1, 2.3, 'Iris-virginica')\n",
      " (5.8, 2.7, 5.1, 1.9, 'Iris-virginica')\n",
      " (6.8, 3.2, 5.9, 2.3, 'Iris-virginica')\n",
      " (6.7, 3.3, 5.7, 2.5, 'Iris-virginica')\n",
      " (6.7, 3. , 5.2, 2.3, 'Iris-virginica')\n",
      " (6.3, 2.5, 5. , 1.9, 'Iris-virginica')\n",
      " (6.5, 3. , 5.2, 2. , 'Iris-virginica')\n",
      " (6.2, 3.4, 5.4, 2.3, 'Iris-virginica')\n",
      " (5.9, 3. , 5.1, 1.8, 'Iris-virginica')]\n"
     ]
    }
   ],
   "source": [
    "url = 'https://archive.ics.uci.edu/ml/machine-learning-databases/iris/iris.data'\n",
    "\n",
    "dataFromWeb = np.genfromtxt(url, delimiter=',', dtype=None,  encoding=None)\n",
    "print(dataFromWeb)"
   ]
  },
  {
   "cell_type": "code",
   "execution_count": 40,
   "id": "2df8dfe1-dbf6-4ff2-afd1-6f7a713d1f0e",
   "metadata": {},
   "outputs": [
    {
     "name": "stdout",
     "output_type": "stream",
     "text": [
      "position: 50\n"
     ]
    }
   ],
   "source": [
    "numeric_values = np.array([[float(row[i]) for i in range(4)] for row in dataFromWeb], dtype=float)\n",
    "petal_width = numeric_values[:, 3]\n",
    "position = np.argmax((petal_width) > 1.0)\n",
    "\n",
    "print(f'position: {position}')"
   ]
  },
  {
   "cell_type": "code",
   "execution_count": 41,
   "id": "3c347172-d0b0-4506-9d11-5ba06ff5354d",
   "metadata": {},
   "outputs": [
    {
     "name": "stdout",
     "output_type": "stream",
     "text": [
      "[27.62684215 14.64009987 21.80136195 30.         10.         10.\n",
      " 30.         30.         10.         29.17957314 30.         11.25090398\n",
      " 10.08108276 10.         11.76517714 30.         30.         10.\n",
      " 30.         14.42961361]\n"
     ]
    }
   ],
   "source": [
    "np.random.seed(100)\n",
    "a = np.random.uniform(1,50, 20)\n",
    "bound_array = np.clip(a, 10, 30)\n",
    "print(bound_array)"
   ]
  },
  {
   "cell_type": "code",
   "execution_count": null,
   "id": "69c8d900-a528-4844-a124-7849468eb055",
   "metadata": {},
   "outputs": [],
   "source": []
  }
 ],
 "metadata": {
  "kernelspec": {
   "display_name": "Python 3 (ipykernel)",
   "language": "python",
   "name": "python3"
  },
  "language_info": {
   "codemirror_mode": {
    "name": "ipython",
    "version": 3
   },
   "file_extension": ".py",
   "mimetype": "text/x-python",
   "name": "python",
   "nbconvert_exporter": "python",
   "pygments_lexer": "ipython3",
   "version": "3.13.0"
  }
 },
 "nbformat": 4,
 "nbformat_minor": 5
}
